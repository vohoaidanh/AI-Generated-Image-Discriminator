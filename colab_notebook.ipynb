{
  "nbformat": 4,
  "nbformat_minor": 0,
  "metadata": {
    "colab": {
      "provenance": [],
      "gpuType": "T4"
    },
    "kernelspec": {
      "name": "python3",
      "display_name": "Python 3"
    },
    "language_info": {
      "name": "python"
    },
    "accelerator": "GPU"
  },
  "cells": [
    {
      "cell_type": "code",
      "source": [
        "!git clone -b real_fake_clf https://github.com/vohoaidanh/AI-Generated-Image-Discriminator.git"
      ],
      "metadata": {
        "colab": {
          "base_uri": "https://localhost:8080/"
        },
        "id": "74N-oVuKHp8W",
        "outputId": "314441ee-5a36-43a5-bed2-b15439ad4e68"
      },
      "execution_count": 2,
      "outputs": [
        {
          "output_type": "stream",
          "name": "stdout",
          "text": [
            "Cloning into 'AI-Generated-Image-Discriminator'...\n",
            "remote: Enumerating objects: 647, done.\u001b[K\n",
            "remote: Counting objects: 100% (647/647), done.\u001b[K\n",
            "remote: Compressing objects: 100% (520/520), done.\u001b[K\n",
            "remote: Total 647 (delta 107), reused 643 (delta 106), pack-reused 0\u001b[K\n",
            "Receiving objects: 100% (647/647), 1.42 MiB | 12.60 MiB/s, done.\n",
            "Resolving deltas: 100% (107/107), done.\n"
          ]
        }
      ]
    },
    {
      "cell_type": "code",
      "source": [
        "from google.colab import drive\n",
        "drive.mount('/content/drive')"
      ],
      "metadata": {
        "colab": {
          "base_uri": "https://localhost:8080/"
        },
        "id": "Of3Jxlk6NHjz",
        "outputId": "c8c1a68e-6c87-4569-be1a-f34b9f3db3b6"
      },
      "execution_count": 1,
      "outputs": [
        {
          "output_type": "stream",
          "name": "stdout",
          "text": [
            "Mounted at /content/drive\n"
          ]
        }
      ]
    },
    {
      "cell_type": "code",
      "source": [
        "# Mode dataset to colab\n",
        "!cp \"/content/drive/MyDrive/DATASETS/RealFakeDB_tiny.zip\" \"/content/\"\n"
      ],
      "metadata": {
        "id": "5zc5Z8FlHcrg"
      },
      "execution_count": 3,
      "outputs": []
    },
    {
      "cell_type": "code",
      "source": [
        "!unzip -q \"/content/RealFakeDB_tiny.zip\" -d \"/content/AI-Generated-Image-Discriminator/\"\n"
      ],
      "metadata": {
        "id": "PVhyn9QsNY2j"
      },
      "execution_count": 4,
      "outputs": []
    },
    {
      "cell_type": "code",
      "source": [
        "cd AI-Generated-Image-Discriminator/src"
      ],
      "metadata": {
        "colab": {
          "base_uri": "https://localhost:8080/"
        },
        "id": "xImxkM4ZOE2W",
        "outputId": "6f6a40d7-e5dc-4312-ab25-70ca3dc27383"
      },
      "execution_count": 10,
      "outputs": [
        {
          "output_type": "stream",
          "name": "stdout",
          "text": [
            "[Errno 2] No such file or directory: 'AI-Generated-Image-Discriminator/src'\n",
            "/content/AI-Generated-Image-Discriminator\n"
          ]
        }
      ]
    },
    {
      "cell_type": "code",
      "source": [
        "!python train.py"
      ],
      "metadata": {
        "colab": {
          "base_uri": "https://localhost:8080/"
        },
        "id": "GnijmoJ_OeXK",
        "outputId": "d96b2c7b-2e66-4dc9-8210-4d6471df65a3"
      },
      "execution_count": 15,
      "outputs": [
        {
          "output_type": "stream",
          "name": "stdout",
          "text": [
            "Downloading: \"https://download.pytorch.org/models/resnet18-f37072fd.pth\" to /root/.cache/torch/hub/checkpoints/resnet18-f37072fd.pth\n",
            "100% 44.7M/44.7M [00:00<00:00, 127MB/s]\n",
            "{\n",
            "    \"CLASSNAME\": [\n",
            "        \"fake\",\n",
            "        \"real\"\n",
            "    ],\n",
            "    \"DATA\": {\n",
            "        \"BATCHSIZES\": 16,\n",
            "        \"DATA_DIR\": \"../RealFakeDB_tiny\",\n",
            "        \"IMG_SIZE\": [\n",
            "            224,\n",
            "            224\n",
            "        ],\n",
            "        \"NUM_WORKERS\": 1\n",
            "    },\n",
            "    \"MODEL\": {\n",
            "        \"CHECKPOINT\": \"\",\n",
            "        \"EPOCHS\": 1,\n",
            "        \"LEARNING_RATE\": 1e-05,\n",
            "        \"LOSS_FUNCTION\": \"CrossEntropyLoss\",\n",
            "        \"MODEL_NAME\": \"resnet18\",\n",
            "        \"NUMCLASS\": 2,\n",
            "        \"OPTIM_FUNCTION\": \"Adam\"\n",
            "    },\n",
            "    \"WEIGHT\": {\n",
            "        \"SAVE\": true,\n",
            "        \"SAVE_BEST\": true,\n",
            "        \"SAVE_WEIGHT_PATH\": \"../weights\"\n",
            "    }\n",
            "}\n",
            "Epoch 0/0\n",
            "----------\n",
            "In the training phase:\t Loss = 0.5175\t Acc score: 0.7296\t F1_score = 0.7261\n",
            "In the validation phase: Loss = 0.3514\t Acc score: 0.8483\t F1_score = 0.8480\n",
            "Total time for epoch 0: 41.06s\n",
            "\n",
            "\n",
            "\n",
            "Training complete in 0m 41s\n",
            "Best val Acc: 0.847978\n"
          ]
        }
      ]
    },
    {
      "cell_type": "code",
      "source": [
        "#Before inference you must establish the checkpoint path in config file\n",
        "!python predict.py --test_path ../RealFakeDB_tiny/test/fake --batch_predict 16"
      ],
      "metadata": {
        "colab": {
          "base_uri": "https://localhost:8080/"
        },
        "id": "TlncG7p1Ozdk",
        "outputId": "eea96a8f-b6a7-454d-c7f0-43b291f9d362"
      },
      "execution_count": 17,
      "outputs": [
        {
          "output_type": "stream",
          "name": "stdout",
          "text": [
            "Predict completed! Result is saved in predict.csv\n"
          ]
        }
      ]
    }
  ]
}